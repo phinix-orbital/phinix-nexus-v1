{
 "cells": [
  {
   "cell_type": "code",
   "execution_count": 1,
   "metadata": {},
   "outputs": [],
   "source": [
    "import os\n",
    "from helpers.generic_helpers import GenericHelpers\n",
    "from extract.local.read_yml import ReadYml\n",
    "from extract.local.read_csv import ReadCsv\n",
    "from extract.local.read_excel import ReadExcel"
   ]
  },
  {
   "cell_type": "code",
   "execution_count": 2,
   "metadata": {},
   "outputs": [
    {
     "name": "stderr",
     "output_type": "stream",
     "text": [
      "INFO:validators.run_validator:--- Running Validator for check_file_path_existence... ---\n",
      "INFO:validators.run_validator:--- Running Validator for check_file_path_existence... ---\n",
      "INFO:validators.run_validator:--- Running Validator for check_file_path_existence... ---\n",
      "INFO:validators.run_validator:--- Running Validator for check_file_path_existence... ---\n"
     ]
    }
   ],
   "source": [
    "_cfg_fp = os.path.join(GenericHelpers.get_configs_path(), 'extract', 'config_local.yml')\n",
    "_read_yml = ReadYml(file_path = _cfg_fp)\n",
    "_cfg = _read_yml.read_file()\n",
    "_data_fp = os.path.join(GenericHelpers.get_base_path(), _cfg.get(\"requirements\"))\n",
    "_read_data = ReadCsv(file_path=_data_fp)\n",
    "df = _read_data.read_file()"
   ]
  },
  {
   "cell_type": "code",
   "execution_count": 3,
   "metadata": {},
   "outputs": [
    {
     "data": {
      "text/html": [
       "<div>\n",
       "<style scoped>\n",
       "    .dataframe tbody tr th:only-of-type {\n",
       "        vertical-align: middle;\n",
       "    }\n",
       "\n",
       "    .dataframe tbody tr th {\n",
       "        vertical-align: top;\n",
       "    }\n",
       "\n",
       "    .dataframe thead th {\n",
       "        text-align: right;\n",
       "    }\n",
       "</style>\n",
       "<table border=\"1\" class=\"dataframe\">\n",
       "  <thead>\n",
       "    <tr style=\"text-align: right;\">\n",
       "      <th></th>\n",
       "      <th>ParID</th>\n",
       "      <th>Name</th>\n",
       "      <th>Value</th>\n",
       "      <th>Units</th>\n",
       "      <th>MinMargin</th>\n",
       "      <th>MaxMargin</th>\n",
       "    </tr>\n",
       "  </thead>\n",
       "  <tbody>\n",
       "    <tr>\n",
       "      <th>0</th>\n",
       "      <td>PAR00001</td>\n",
       "      <td>Spring_Length</td>\n",
       "      <td>10</td>\n",
       "      <td>cm</td>\n",
       "      <td>-0.10</td>\n",
       "      <td>0.10</td>\n",
       "    </tr>\n",
       "    <tr>\n",
       "      <th>1</th>\n",
       "      <td>PAR00002</td>\n",
       "      <td>Spring_Diameter</td>\n",
       "      <td>2</td>\n",
       "      <td>cm</td>\n",
       "      <td>-0.05</td>\n",
       "      <td>0.05</td>\n",
       "    </tr>\n",
       "    <tr>\n",
       "      <th>2</th>\n",
       "      <td>PAR00003</td>\n",
       "      <td>Max_Compression</td>\n",
       "      <td>10</td>\n",
       "      <td>N</td>\n",
       "      <td>-0.05</td>\n",
       "      <td>0.05</td>\n",
       "    </tr>\n",
       "    <tr>\n",
       "      <th>3</th>\n",
       "      <td>PAR00015</td>\n",
       "      <td>Bullet_ejection_force</td>\n",
       "      <td>10</td>\n",
       "      <td>N</td>\n",
       "      <td>-0.05</td>\n",
       "      <td>0.05</td>\n",
       "    </tr>\n",
       "  </tbody>\n",
       "</table>\n",
       "</div>"
      ],
      "text/plain": [
       "      ParID                   Name  Value Units  MinMargin  MaxMargin\n",
       "0  PAR00001          Spring_Length     10    cm      -0.10       0.10\n",
       "1  PAR00002        Spring_Diameter      2    cm      -0.05       0.05\n",
       "2  PAR00003        Max_Compression     10     N      -0.05       0.05\n",
       "3  PAR00015  Bullet_ejection_force     10     N      -0.05       0.05"
      ]
     },
     "execution_count": 3,
     "metadata": {},
     "output_type": "execute_result"
    }
   ],
   "source": [
    "df"
   ]
  },
  {
   "cell_type": "code",
   "execution_count": 4,
   "metadata": {},
   "outputs": [
    {
     "name": "stderr",
     "output_type": "stream",
     "text": [
      "INFO:validators.run_validator:--- Running Validator for check_file_path_existence... ---\n",
      "INFO:validators.run_validator:--- Running Validator for check_file_path_existence... ---\n"
     ]
    }
   ],
   "source": [
    "_data_fp = os.path.join(GenericHelpers.get_base_path(), _cfg.get(\"parameter_connections\"))\n",
    "_read_data = ReadExcel(file_path=_data_fp)\n",
    "df = _read_data.read_file()"
   ]
  },
  {
   "cell_type": "code",
   "execution_count": 5,
   "metadata": {},
   "outputs": [
    {
     "data": {
      "text/html": [
       "<div>\n",
       "<style scoped>\n",
       "    .dataframe tbody tr th:only-of-type {\n",
       "        vertical-align: middle;\n",
       "    }\n",
       "\n",
       "    .dataframe tbody tr th {\n",
       "        vertical-align: top;\n",
       "    }\n",
       "\n",
       "    .dataframe thead th {\n",
       "        text-align: right;\n",
       "    }\n",
       "</style>\n",
       "<table border=\"1\" class=\"dataframe\">\n",
       "  <thead>\n",
       "    <tr style=\"text-align: right;\">\n",
       "      <th></th>\n",
       "      <th>souce_PARXXXXX_id</th>\n",
       "      <th>target_PARXXXXX_id</th>\n",
       "    </tr>\n",
       "  </thead>\n",
       "  <tbody>\n",
       "    <tr>\n",
       "      <th>0</th>\n",
       "      <td>PAR00001</td>\n",
       "      <td>PAR00007</td>\n",
       "    </tr>\n",
       "    <tr>\n",
       "      <th>1</th>\n",
       "      <td>PAR00005</td>\n",
       "      <td>PAR00010</td>\n",
       "    </tr>\n",
       "  </tbody>\n",
       "</table>\n",
       "</div>"
      ],
      "text/plain": [
       "  souce_PARXXXXX_id target_PARXXXXX_id\n",
       "0          PAR00001           PAR00007\n",
       "1          PAR00005           PAR00010"
      ]
     },
     "execution_count": 5,
     "metadata": {},
     "output_type": "execute_result"
    }
   ],
   "source": [
    "df"
   ]
  },
  {
   "cell_type": "code",
   "execution_count": null,
   "metadata": {},
   "outputs": [],
   "source": []
  }
 ],
 "metadata": {
  "kernelspec": {
   "display_name": "env",
   "language": "python",
   "name": "python3"
  },
  "language_info": {
   "codemirror_mode": {
    "name": "ipython",
    "version": 3
   },
   "file_extension": ".py",
   "mimetype": "text/x-python",
   "name": "python",
   "nbconvert_exporter": "python",
   "pygments_lexer": "ipython3",
   "version": "3.11.7"
  }
 },
 "nbformat": 4,
 "nbformat_minor": 2
}
