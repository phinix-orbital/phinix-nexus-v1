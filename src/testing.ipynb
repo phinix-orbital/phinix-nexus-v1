{
 "cells": [
  {
   "cell_type": "code",
   "execution_count": 1,
   "metadata": {},
   "outputs": [
    {
     "name": "stderr",
     "output_type": "stream",
     "text": [
      "c:\\DS\\phinix\\phinix-nexus-v1\\env\\Lib\\site-packages\\pydantic\\_internal\\_fields.py:186: UserWarning: Field name \"schema\" shadows an attribute in parent \"BaseModel\"; \n",
      "  warnings.warn(\n"
     ]
    }
   ],
   "source": [
    "import os\n",
    "from helpers.generic_helpers import GenericHelpers\n",
    "from extract.local.read_yml import ReadYml\n",
    "from extract.local.read_csv import ReadCsv\n",
    "from extract.local.read_excel import ReadExcel"
   ]
  },
  {
   "cell_type": "code",
   "execution_count": 3,
   "metadata": {},
   "outputs": [
    {
     "name": "stderr",
     "output_type": "stream",
     "text": [
      "INFO:validators.run_validator:--- Running Validator for check_file_path_existence... ---\n",
      "INFO:validators.run_validator:--- Running Validator for load_yaml_to_dict... ---\n",
      "INFO:validators.run_validator:--- Running Validator for check_file_path_existence... ---\n",
      "INFO:validators.run_validator:--- Running Validator for load_df_from_csv... ---\n"
     ]
    }
   ],
   "source": [
    "_cfg_fp = os.path.join(GenericHelpers.get_configs_path(), 'extract', 'config_local.yml')\n",
    "_read_yml = ReadYml(file_path = _cfg_fp)\n",
    "_cfg = _read_yml.read_file()\n",
    "_data_fp = os.path.join(GenericHelpers.get_base_path(), _cfg.get(\"requirements\"))\n",
    "_read_data = ReadCsv(file_path=_data_fp)\n",
    "df = _read_data.read_file()"
   ]
  },
  {
   "cell_type": "code",
   "execution_count": 4,
   "metadata": {},
   "outputs": [
    {
     "data": {
      "text/html": [
       "<div>\n",
       "<style scoped>\n",
       "    .dataframe tbody tr th:only-of-type {\n",
       "        vertical-align: middle;\n",
       "    }\n",
       "\n",
       "    .dataframe tbody tr th {\n",
       "        vertical-align: top;\n",
       "    }\n",
       "\n",
       "    .dataframe thead th {\n",
       "        text-align: right;\n",
       "    }\n",
       "</style>\n",
       "<table border=\"1\" class=\"dataframe\">\n",
       "  <thead>\n",
       "    <tr style=\"text-align: right;\">\n",
       "      <th></th>\n",
       "      <th>ParID</th>\n",
       "      <th>Name</th>\n",
       "      <th>Value</th>\n",
       "      <th>Units</th>\n",
       "      <th>MinMargin</th>\n",
       "      <th>MaxMargin</th>\n",
       "    </tr>\n",
       "  </thead>\n",
       "  <tbody>\n",
       "    <tr>\n",
       "      <th>0</th>\n",
       "      <td>PAR00001</td>\n",
       "      <td>Spring_Length</td>\n",
       "      <td>10</td>\n",
       "      <td>cm</td>\n",
       "      <td>-0.10</td>\n",
       "      <td>0.10</td>\n",
       "    </tr>\n",
       "    <tr>\n",
       "      <th>1</th>\n",
       "      <td>PAR00002</td>\n",
       "      <td>Spring_Diameter</td>\n",
       "      <td>2</td>\n",
       "      <td>cm</td>\n",
       "      <td>-0.05</td>\n",
       "      <td>0.05</td>\n",
       "    </tr>\n",
       "    <tr>\n",
       "      <th>2</th>\n",
       "      <td>PAR00003</td>\n",
       "      <td>Max_Compression</td>\n",
       "      <td>10</td>\n",
       "      <td>N</td>\n",
       "      <td>-0.05</td>\n",
       "      <td>0.05</td>\n",
       "    </tr>\n",
       "    <tr>\n",
       "      <th>3</th>\n",
       "      <td>PAR00015</td>\n",
       "      <td>Bullet_ejection_force</td>\n",
       "      <td>10</td>\n",
       "      <td>N</td>\n",
       "      <td>-0.05</td>\n",
       "      <td>0.05</td>\n",
       "    </tr>\n",
       "  </tbody>\n",
       "</table>\n",
       "</div>"
      ],
      "text/plain": [
       "      ParID                   Name  Value Units  MinMargin  MaxMargin\n",
       "0  PAR00001          Spring_Length     10    cm      -0.10       0.10\n",
       "1  PAR00002        Spring_Diameter      2    cm      -0.05       0.05\n",
       "2  PAR00003        Max_Compression     10     N      -0.05       0.05\n",
       "3  PAR00015  Bullet_ejection_force     10     N      -0.05       0.05"
      ]
     },
     "execution_count": 4,
     "metadata": {},
     "output_type": "execute_result"
    }
   ],
   "source": [
    "df"
   ]
  },
  {
   "cell_type": "code",
   "execution_count": 6,
   "metadata": {},
   "outputs": [],
   "source": [
    "import great_expectations as ge\n",
    "try_df = ge.from_pandas(df)\n",
    "GenericHelpers.run_ge_validation(dict(**try_df.expect_column_values_to_be_of_type(\"Name\", \"str\")))"
   ]
  },
  {
   "cell_type": "code",
   "execution_count": null,
   "metadata": {},
   "outputs": [
    {
     "name": "stderr",
     "output_type": "stream",
     "text": [
      "INFO:validators.run_validator:--- Running Validator for check_file_path_existence... ---\n",
      "INFO:validators.run_validator:--- Running Validator for check_file_path_existence... ---\n"
     ]
    }
   ],
   "source": [
    "_data_fp = os.path.join(GenericHelpers.get_base_path(), _cfg.get(\"parameter_connections\"))\n",
    "_read_data = ReadExcel(file_path=_data_fp)\n",
    "df = _read_data.read_file()"
   ]
  },
  {
   "cell_type": "code",
   "execution_count": null,
   "metadata": {},
   "outputs": [
    {
     "data": {
      "text/html": [
       "<div>\n",
       "<style scoped>\n",
       "    .dataframe tbody tr th:only-of-type {\n",
       "        vertical-align: middle;\n",
       "    }\n",
       "\n",
       "    .dataframe tbody tr th {\n",
       "        vertical-align: top;\n",
       "    }\n",
       "\n",
       "    .dataframe thead th {\n",
       "        text-align: right;\n",
       "    }\n",
       "</style>\n",
       "<table border=\"1\" class=\"dataframe\">\n",
       "  <thead>\n",
       "    <tr style=\"text-align: right;\">\n",
       "      <th></th>\n",
       "      <th>souce_PARXXXXX_id</th>\n",
       "      <th>target_PARXXXXX_id</th>\n",
       "    </tr>\n",
       "  </thead>\n",
       "  <tbody>\n",
       "    <tr>\n",
       "      <th>0</th>\n",
       "      <td>PAR00001</td>\n",
       "      <td>PAR00007</td>\n",
       "    </tr>\n",
       "    <tr>\n",
       "      <th>1</th>\n",
       "      <td>PAR00005</td>\n",
       "      <td>PAR00010</td>\n",
       "    </tr>\n",
       "  </tbody>\n",
       "</table>\n",
       "</div>"
      ],
      "text/plain": [
       "  souce_PARXXXXX_id target_PARXXXXX_id\n",
       "0          PAR00001           PAR00007\n",
       "1          PAR00005           PAR00010"
      ]
     },
     "execution_count": 5,
     "metadata": {},
     "output_type": "execute_result"
    }
   ],
   "source": [
    "df"
   ]
  },
  {
   "cell_type": "code",
   "execution_count": 1,
   "metadata": {},
   "outputs": [],
   "source": [
    "from validators.helpers_validator import ValidateOrderConfigSteps"
   ]
  },
  {
   "cell_type": "code",
   "execution_count": 3,
   "metadata": {},
   "outputs": [
    {
     "ename": "ValidationError",
     "evalue": "1 validation error for ValidateOrderConfigSteps\nconfig\n  Value error, Passed config item is not a step! [type=value_error, input_value={'step_1': 1, 'booyaka': 2}, input_type=dict]\n    For further information visit https://errors.pydantic.dev/2.6/v/value_error",
     "output_type": "error",
     "traceback": [
      "\u001b[1;31m---------------------------------------------------------------------------\u001b[0m",
      "\u001b[1;31mValidationError\u001b[0m                           Traceback (most recent call last)",
      "Cell \u001b[1;32mIn[3], line 1\u001b[0m\n\u001b[1;32m----> 1\u001b[0m \u001b[43mValidateOrderConfigSteps\u001b[49m\u001b[43m(\u001b[49m\u001b[43mconfig\u001b[49m\u001b[38;5;241;43m=\u001b[39;49m\u001b[43m{\u001b[49m\u001b[38;5;124;43m\"\u001b[39;49m\u001b[38;5;124;43mstep_1\u001b[39;49m\u001b[38;5;124;43m\"\u001b[39;49m\u001b[43m:\u001b[49m\u001b[43m \u001b[49m\u001b[38;5;241;43m1\u001b[39;49m\u001b[43m,\u001b[49m\u001b[43m \u001b[49m\u001b[38;5;124;43m\"\u001b[39;49m\u001b[38;5;124;43mbooyaka\u001b[39;49m\u001b[38;5;124;43m\"\u001b[39;49m\u001b[43m:\u001b[49m\u001b[43m \u001b[49m\u001b[38;5;241;43m2\u001b[39;49m\u001b[43m}\u001b[49m\u001b[43m)\u001b[49m\n",
      "File \u001b[1;32mc:\\DS\\phinix\\phinix-nexus-v1\\env\\Lib\\site-packages\\pydantic\\main.py:171\u001b[0m, in \u001b[0;36mBaseModel.__init__\u001b[1;34m(self, **data)\u001b[0m\n\u001b[0;32m    169\u001b[0m \u001b[38;5;66;03m# `__tracebackhide__` tells pytest and some other tools to omit this function from tracebacks\u001b[39;00m\n\u001b[0;32m    170\u001b[0m __tracebackhide__ \u001b[38;5;241m=\u001b[39m \u001b[38;5;28;01mTrue\u001b[39;00m\n\u001b[1;32m--> 171\u001b[0m \u001b[38;5;28;43mself\u001b[39;49m\u001b[38;5;241;43m.\u001b[39;49m\u001b[43m__pydantic_validator__\u001b[49m\u001b[38;5;241;43m.\u001b[39;49m\u001b[43mvalidate_python\u001b[49m\u001b[43m(\u001b[49m\u001b[43mdata\u001b[49m\u001b[43m,\u001b[49m\u001b[43m \u001b[49m\u001b[43mself_instance\u001b[49m\u001b[38;5;241;43m=\u001b[39;49m\u001b[38;5;28;43mself\u001b[39;49m\u001b[43m)\u001b[49m\n",
      "\u001b[1;31mValidationError\u001b[0m: 1 validation error for ValidateOrderConfigSteps\nconfig\n  Value error, Passed config item is not a step! [type=value_error, input_value={'step_1': 1, 'booyaka': 2}, input_type=dict]\n    For further information visit https://errors.pydantic.dev/2.6/v/value_error"
     ]
    }
   ],
   "source": [
    "ValidateOrderConfigSteps(config={\"step_1\": 1, \"booyaka\": 2})"
   ]
  },
  {
   "cell_type": "code",
   "execution_count": 1,
   "metadata": {},
   "outputs": [
    {
     "name": "stderr",
     "output_type": "stream",
     "text": [
      "c:\\DS\\phinix\\phinix-nexus-v1\\env\\Lib\\site-packages\\pydantic\\_internal\\_fields.py:186: UserWarning: Field name \"schema\" shadows an attribute in parent \"BaseModel\"; \n",
      "  warnings.warn(\n",
      "INFO:validators.run_validator:--- Running Validator for check_file_path_existence... ---\n",
      "INFO:validators.run_validator:--- Running Validator for load_yaml_to_dict... ---\n"
     ]
    }
   ],
   "source": [
    "import os\n",
    "from helpers.generic_helpers import GenericHelpers\n",
    "from extract.local.read_yml import ReadYml\n",
    "from extract.local.read_csv import ReadCsv\n",
    "from extract.local.read_excel import ReadExcel\n",
    "_cfg_fp = os.path.join(GenericHelpers.get_configs_path(), 'components', 'template_v1.yml')\n",
    "# _cfg_fp = os.path.join(GenericHelpers.get_configs_path(), 'components', 'test_orc.yml')\n",
    "_read_yml = ReadYml(file_path = _cfg_fp)\n",
    "_cfg = _read_yml.read_file()"
   ]
  },
  {
   "cell_type": "code",
   "execution_count": 2,
   "metadata": {},
   "outputs": [],
   "source": [
    "from orchestrator.config_orchestrator import ConfigOrchestrator\n",
    "from orchestrator.component_orchestrator import ComponentOrchestrator"
   ]
  },
  {
   "cell_type": "code",
   "execution_count": 3,
   "metadata": {},
   "outputs": [
    {
     "name": "stderr",
     "output_type": "stream",
     "text": [
      "INFO:validators.run_validator:--- Running Validator for config_orchestrator... ---\n",
      "INFO:validators.run_validator:--- Running Validator for order_config_steps... ---\n"
     ]
    }
   ],
   "source": [
    "_orc = ConfigOrchestrator(config=_cfg, config_type=\"component\")\n",
    "_cfg_orc = _orc.orchestrate_config()"
   ]
  },
  {
   "cell_type": "code",
   "execution_count": 4,
   "metadata": {},
   "outputs": [
    {
     "data": {
      "text/plain": [
       "{'STEP_1': {'input': {'type': 'read_local',\n",
       "   'target': 'parameter_connections'}},\n",
       " 'STEP_2': {'input': {'type': 'read_local',\n",
       "   'target': 'parameter_connections_schema'}},\n",
       " 'STEP_3': {'data_validation': {'calibrate': 'step_1', 'schema': 'step_2'}}}"
      ]
     },
     "execution_count": 4,
     "metadata": {},
     "output_type": "execute_result"
    }
   ],
   "source": [
    "_cfg_orc"
   ]
  },
  {
   "cell_type": "code",
   "execution_count": 5,
   "metadata": {},
   "outputs": [
    {
     "name": "stderr",
     "output_type": "stream",
     "text": [
      "INFO:validators.run_validator:--- Running Validator for run_input... ---\n",
      "INFO:validators.run_validator:--- Running Validator for check_file_path_existence... ---\n",
      "INFO:validators.run_validator:--- Running Validator for load_yaml_to_dict... ---\n",
      "INFO:validators.run_validator:--- Running Validator for check_file_path_existence... ---\n",
      "INFO:validators.run_validator:--- Running Validator for load_df_from_excel... ---\n"
     ]
    },
    {
     "name": "stderr",
     "output_type": "stream",
     "text": [
      "INFO:validators.run_validator:--- Running Validator for run_input... ---\n",
      "INFO:validators.run_validator:--- Running Validator for check_file_path_existence... ---\n",
      "INFO:validators.run_validator:--- Running Validator for load_yaml_to_dict... ---\n",
      "INFO:validators.run_validator:--- Running Validator for check_file_path_existence... ---\n",
      "INFO:validators.run_validator:--- Running Validator for load_df_from_excel... ---\n",
      "INFO:validators.run_validator:--- Running Validator for run_data_validation... ---\n",
      "INFO:validators.run_validator:--- Running Validator for input_data_validator... ---\n"
     ]
    },
    {
     "data": {
      "text/html": [
       "<div>\n",
       "<style scoped>\n",
       "    .dataframe tbody tr th:only-of-type {\n",
       "        vertical-align: middle;\n",
       "    }\n",
       "\n",
       "    .dataframe tbody tr th {\n",
       "        vertical-align: top;\n",
       "    }\n",
       "\n",
       "    .dataframe thead th {\n",
       "        text-align: right;\n",
       "    }\n",
       "</style>\n",
       "<table border=\"1\" class=\"dataframe\">\n",
       "  <thead>\n",
       "    <tr style=\"text-align: right;\">\n",
       "      <th></th>\n",
       "      <th>source_PARXXXXX_id</th>\n",
       "      <th>target_PARXXXXX_id</th>\n",
       "    </tr>\n",
       "  </thead>\n",
       "  <tbody>\n",
       "    <tr>\n",
       "      <th>0</th>\n",
       "      <td>PAR00001</td>\n",
       "      <td>PAR00007</td>\n",
       "    </tr>\n",
       "    <tr>\n",
       "      <th>1</th>\n",
       "      <td>PAR00005</td>\n",
       "      <td>PAR00010</td>\n",
       "    </tr>\n",
       "  </tbody>\n",
       "</table>\n",
       "</div>"
      ],
      "text/plain": [
       "  source_PARXXXXX_id target_PARXXXXX_id\n",
       "0           PAR00001           PAR00007\n",
       "1           PAR00005           PAR00010"
      ]
     },
     "execution_count": 5,
     "metadata": {},
     "output_type": "execute_result"
    }
   ],
   "source": [
    "_comp_orc = ComponentOrchestrator(config=_cfg_orc)\n",
    "_comp_op = _comp_orc.run_component_steps()\n",
    "_comp_op"
   ]
  },
  {
   "cell_type": "code",
   "execution_count": null,
   "metadata": {},
   "outputs": [],
   "source": []
  }
 ],
 "metadata": {
  "kernelspec": {
   "display_name": "env",
   "language": "python",
   "name": "python3"
  },
  "language_info": {
   "codemirror_mode": {
    "name": "ipython",
    "version": 3
   },
   "file_extension": ".py",
   "mimetype": "text/x-python",
   "name": "python",
   "nbconvert_exporter": "python",
   "pygments_lexer": "ipython3",
   "version": "3.11.7"
  }
 },
 "nbformat": 4,
 "nbformat_minor": 2
}
